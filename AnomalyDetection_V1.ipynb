{
 "cells": [
  {
   "cell_type": "markdown",
   "id": "0b9d6609-a12a-49cc-9f4f-50be5acb3380",
   "metadata": {
    "tags": []
   },
   "source": [
    "# CPSC 483 - Fall 2021 - Section 1\n",
    "## Project 1 - Anomaly Detection\n",
    "### Group Members: Elnathan Yoon, Salam Abdelhalim, Preet Desai"
   ]
  },
  {
   "cell_type": "markdown",
   "id": "f6ea99a2-ea64-4894-a2ae-2f0be3130415",
   "metadata": {},
   "source": [
    "#### 1. Use the csv module to load the dataset and examine the contents of the first few rows."
   ]
  },
  {
   "cell_type": "code",
   "execution_count": 2,
   "id": "64f1d772-e43e-4251-b8a0-2bce28e0e236",
   "metadata": {},
   "outputs": [],
   "source": [
    "import csv\n",
    "import statistics\n",
    "\n",
    "# Open participants.csv file\n",
    "with open('participants.csv', newline='') as csvfile:\n",
    "    reader = csv.DictReader(csvfile)\n",
    "    \n",
    "    # Store Week One data in a list and convert to Float.\n",
    "    weekOneData = []\n",
    "    for row in reader:\n",
    "        weekOneData.append(float(row['Week 1']))\n",
    "        "
   ]
  },
  {
   "cell_type": "markdown",
   "id": "95a08d44-6972-4b50-b52f-7dc3bf67a9a1",
   "metadata": {},
   "source": [
    "#### 2. Load the statistics module and use it to find the mean and median of Week 1’s data."
   ]
  },
  {
   "cell_type": "code",
   "execution_count": 3,
   "id": "87f31030-3568-476f-95d4-47fdb4336041",
   "metadata": {},
   "outputs": [
    {
     "name": "stdout",
     "output_type": "stream",
     "text": [
      "Average attendance in minutes for Week One: 161.0\n",
      "Median attendance in minutes for Week One: 175.0\n"
     ]
    }
   ],
   "source": [
    "# Calculate Mean and Median for Week One Data.\n",
    "weekOneAvg = statistics.fmean(weekOneData)\n",
    "weekOneMedian = statistics.median(weekOneData)\n",
    "    \n",
    "# Print Results for Week One Mean and Median.\n",
    "print(\"Average attendance in minutes for Week One: {}\".format(weekOneAvg))\n",
    "print(\"Median attendance in minutes for Week One: {}\".format(weekOneMedian))"
   ]
  },
  {
   "cell_type": "markdown",
   "id": "c33b5fe6-9068-462b-90d0-db8b1a9c7ce6",
   "metadata": {},
   "source": [
    "#### 3. Find the quartiles for Week 1."
   ]
  },
  {
   "cell_type": "code",
   "execution_count": 4,
   "id": "30cf67d2-e7a0-4468-8ac6-931bd1f28b76",
   "metadata": {},
   "outputs": [
    {
     "name": "stdout",
     "output_type": "stream",
     "text": [
      "Q1 for Week 1: 174.0\n",
      "Q2 for Week 1: 175.0\n",
      "Q3 for Week 1: 179.0\n"
     ]
    }
   ],
   "source": [
    "# Use statistics.quantiles to compute quartiles for Week 1\n",
    "q1, q2, q3 = [q for q in statistics.quantiles(weekOneData, n=4)]\n",
    "print(\"Q1 for Week 1: {}\".format(q1))\n",
    "print(\"Q2 for Week 1: {}\".format(q2))\n",
    "print(\"Q3 for Week 1: {}\".format(q3))"
   ]
  },
  {
   "cell_type": "markdown",
   "id": "8bfdbde8-2a80-4585-8647-e63c983c79de",
   "metadata": {},
   "source": [
    "#### 4. In order to record attendance, we want to find the students who logged into the Zoom meeting but did not attend the entire lecture. In order to do this, we can look for outliers in the data\n",
    "#### Tukey’s fences are a simple method to define outliers in terms of the interquartile range. (In fact, they are usually included as whiskers in box plots in order to visualize outliers). \n",
    "#### Use this method with k = 1.5 to find the outliers in the Week 1 attendance data."
   ]
  },
  {
   "cell_type": "code",
   "execution_count": 5,
   "id": "3d5b2d0e-1e82-4cd2-8b20-3073dcf5e4e3",
   "metadata": {},
   "outputs": [
    {
     "name": "stdout",
     "output_type": "stream",
     "text": [
      "Students who logged into the Zoom meeting but did not attend the entire lecture:\n",
      "\n",
      "Adrian Ellison\n",
      "Tayla Sparrow\n",
      "Owain Emerson\n",
      "Alaya Dickinson\n"
     ]
    }
   ],
   "source": [
    "# Calculate outlier range\n",
    "k = 1.5\n",
    "minRange = q1 - k*(q3 - q1)\n",
    "maxRange = q3 + k*(q3 - q1)\n",
    "\n",
    "outlier = []\n",
    "# Iterate through week one data and find outliers.\n",
    "for i in weekOneData:\n",
    "    if(i < minRange or i > maxRange):\n",
    "        outlier.append(i)\n",
    "\n",
    "# outlier\n",
    "\n",
    "# Print names of Students with outlier attendance data.\n",
    "with open('participants.csv', newline='') as csvfile:\n",
    "    reader = csv.DictReader(csvfile)\n",
    "    print(\"Students who logged into the Zoom meeting but did not attend the entire lecture:\\n\")\n",
    "    for row in reader:\n",
    "        for i in outlier:\n",
    "            if(float(row['Week 1']) == i):\n",
    "                print(row['Student Name'])\n"
   ]
  },
  {
   "cell_type": "markdown",
   "id": "30799827-7232-478a-8b3d-6f906ba7eb5e",
   "metadata": {},
   "source": [
    "#### 5.  Recall that in a normal distribution, 99.7% of the values lie within three standard deviations from the mean. If we assume that our data are normally distributed, this gives us another way to find outliers.\n",
    "\n",
    "#### Compute the standard deviation for the Week 1 attendance data, then use this method to find the outliers. Do your results agree with experiment (4)?"
   ]
  },
  {
   "cell_type": "code",
   "execution_count": 18,
   "id": "ea68baf2",
   "metadata": {},
   "outputs": [
    {
     "name": "stdout",
     "output_type": "stream",
     "text": [
      "The Standard Deviation for Week One is: 45.02025687856262\n",
      "\n",
      "The minimum range is: 25.939229364312155\n",
      "The maximum range is: 296.06077063568785\n",
      "\n",
      "Students who logged into the Zoom meeting but did not attend the entire lecture:\n",
      "\n",
      "Owain Emerson\n",
      "Alaya Dickinson\n"
     ]
    }
   ],
   "source": [
    "# Calculate the Standard Deviation for Week One Data.\n",
    "weekOneStandardDeviation = statistics.stdev(weekOneData)\n",
    "\n",
    "# Print the results of Standard Deviation for Week One Data.\n",
    "print(\"The Standard Deviation for Week One is: {}\".format(weekOneStandardDeviation))\n",
    "\n",
    "# Calculate outlier range\n",
    "minRange1 = weekOneAvg - 3*weekOneStandardDeviation\n",
    "maxRange1 = weekOneAvg + 3*weekOneStandardDeviation\n",
    "\n",
    "# Print Min and Max Range\n",
    "print(\"\\nThe minimum range is: {}\".format(minRange1))\n",
    "print(\"The maximum range is: {}\".format(maxRange1))\n",
    "\n",
    "outlier1 = []\n",
    "# Iterate through week one data and find outliers.\n",
    "for i in weekOneData:\n",
    "    if(i < minRange1 or i > maxRange1):\n",
    "        outlier1.append(i)\n",
    "\n",
    "        \n",
    "# Print names of Students with outlier attendance data.\n",
    "with open('participants.csv', newline='') as csvfile:\n",
    "    reader = csv.DictReader(csvfile)\n",
    "    print(\"\\nStudents who logged into the Zoom meeting but did not attend the entire lecture:\\n\")\n",
    "    for row in reader:\n",
    "        for i in outlier1:\n",
    "            if(float(row['Week 1']) == i):\n",
    "                print(row['Student Name'])\n"
   ]
  },
  {
   "cell_type": "markdown",
   "id": "82b5b618-3291-4c7b-b6bf-e3ee6a78fe67",
   "metadata": {},
   "source": [
    "#### 6. Define a function tardy_iqr() to make experiment (4) repeatable. This function should take the name of a column (e.g. 'Week 1') and return a list of names for whom the number of minutes is below the lower Tukey fence (e.g. ['Alaya Dickinson', 'Owain Emerson']). Verify that this function returns the same results as experiment (4).\n"
   ]
  },
  {
   "cell_type": "code",
   "execution_count": 41,
   "id": "b95238af-02df-42f6-b90a-17f03d3297f9",
   "metadata": {},
   "outputs": [],
   "source": [
    "def tardy_iqr(week):\n",
    "    \n",
    "    outliers = []\n",
    "    weekData = []\n",
    "    \n",
    "    # Open participants.csv file\n",
    "    with open('participants.csv', newline='') as csvfile:\n",
    "        reader = csv.DictReader(csvfile)\n",
    "    \n",
    "        # Store Week data in a list and convert to Float.\n",
    "        for row in reader:\n",
    "            weekData.append(float(row[week]))\n",
    "            \n",
    "    # Calculate quartiles for given week\n",
    "    q1, q2, q3 = [q for q in statistics.quantiles(weekData, n=4)]\n",
    "    print(\"Quartiles for {}\".format(week))\n",
    "    print(\"Q1: {}\".format(q1))\n",
    "    print(\"Q2: {}\".format(q2))\n",
    "    print(\"Q3: {}\\n\".format(q3))\n",
    "    \n",
    "    # Calculate outlier range for given week\n",
    "    k = 1.5\n",
    "    minRange = q1 - k*(q3 - q1)\n",
    "    maxRange = q3 + k*(q3 - q1)\n",
    "    \n",
    "    # Iterate through week one data and find outliers.\n",
    "    for i in weekData:\n",
    "        if(i < minRange or i > maxRange):\n",
    "            outliers.append(i)\n",
    "            \n",
    "    # print(minRange, maxRange)\n",
    "    print(\"List of outlier values: {}\\n\".format(outliers))\n",
    "    \n",
    "    # Print names of Students with outlier attendance data.\n",
    "    with open('participants.csv', newline='') as csvfile:\n",
    "        reader = csv.DictReader(csvfile)\n",
    "        print(\"Students who logged into the Zoom meeting but did not attend the entire lecture for {}:\\n\".format(week))\n",
    "        for row in reader:\n",
    "            for i in outliers:\n",
    "                if(float(row[week]) == i):\n",
    "                    print(row['Student Name'])\n",
    "        print(\"\\n\")\n",
    "    \n",
    "        "
   ]
  },
  {
   "cell_type": "code",
   "execution_count": 42,
   "id": "aa963ceb-ec96-4a2f-9a4c-c963d4f4cc4a",
   "metadata": {},
   "outputs": [
    {
     "name": "stdout",
     "output_type": "stream",
     "text": [
      "Quartiles for Week 1\n",
      "Q1: 174.0\n",
      "Q2: 175.0\n",
      "Q3: 179.0\n",
      "\n",
      "List of outlier values: [77.0, 51.0, 9.0, 24.0]\n",
      "\n",
      "Students who logged into the Zoom meeting but did not attend the entire lecture for Week 1:\n",
      "\n",
      "Adrian Ellison\n",
      "Tayla Sparrow\n",
      "Owain Emerson\n",
      "Alaya Dickinson\n",
      "\n",
      "\n"
     ]
    }
   ],
   "source": [
    "tardy_iqr('Week 1')"
   ]
  },
  {
   "cell_type": "code",
   "execution_count": 43,
   "id": "501c4948-953b-4d14-a6f0-f85b7e651aed",
   "metadata": {},
   "outputs": [
    {
     "name": "stdout",
     "output_type": "stream",
     "text": [
      "Quartiles for Week 2\n",
      "Q1: 148.0\n",
      "Q2: 153.0\n",
      "Q3: 154.0\n",
      "\n",
      "List of outlier values: [47.0, 79.0, 103.0, 131.0, 2.0, 290.0]\n",
      "\n",
      "Students who logged into the Zoom meeting but did not attend the entire lecture for Week 2:\n",
      "\n",
      "Yasir Fenton\n",
      "Tamara Cottrell\n",
      "Jazmin Foreman\n",
      "Bear Zuniga\n",
      "Miles Lyons\n",
      "Owain Emerson\n",
      "\n",
      "\n"
     ]
    }
   ],
   "source": [
    "tardy_iqr('Week 2')"
   ]
  },
  {
   "cell_type": "code",
   "execution_count": 44,
   "id": "d47588da-6617-45b8-949f-803a2301f655",
   "metadata": {},
   "outputs": [
    {
     "name": "stdout",
     "output_type": "stream",
     "text": [
      "Quartiles for Week 3\n",
      "Q1: 157.0\n",
      "Q2: 161.0\n",
      "Q3: 164.0\n",
      "\n",
      "List of outlier values: [4.0, 105.0, 121.0]\n",
      "\n",
      "Students who logged into the Zoom meeting but did not attend the entire lecture for Week 3:\n",
      "\n",
      "Adrian Ellison\n",
      "Adeline Jordan\n",
      "Jaye Sweeney\n",
      "\n",
      "\n"
     ]
    }
   ],
   "source": [
    "tardy_iqr('Week 3')"
   ]
  },
  {
   "cell_type": "code",
   "execution_count": 45,
   "id": "fb55b008",
   "metadata": {},
   "outputs": [
    {
     "name": "stdout",
     "output_type": "stream",
     "text": [
      "Quartiles for Week 4\n",
      "Q1: 170.0\n",
      "Q2: 171.0\n",
      "Q3: 172.0\n",
      "\n",
      "List of outlier values: [316.0, 184.0]\n",
      "\n",
      "Students who logged into the Zoom meeting but did not attend the entire lecture for Week 4:\n",
      "\n",
      "Dora Delacruz\n",
      "Shaquille Wood\n",
      "\n",
      "\n"
     ]
    }
   ],
   "source": [
    "tardy_iqr('Week 4')"
   ]
  },
  {
   "cell_type": "code",
   "execution_count": 46,
   "id": "8d814e8f",
   "metadata": {},
   "outputs": [
    {
     "name": "stdout",
     "output_type": "stream",
     "text": [
      "Quartiles for Week 5\n",
      "Q1: 168.0\n",
      "Q2: 171.0\n",
      "Q3: 175.0\n",
      "\n",
      "List of outlier values: [35.0, 66.0, 74.0, 195.0, 143.0]\n",
      "\n",
      "Students who logged into the Zoom meeting but did not attend the entire lecture for Week 5:\n",
      "\n",
      "Jazmin Foreman\n",
      "Sanjay Edwards\n",
      "Alfie-James Pierce\n",
      "Adeline Jordan\n",
      "Saffa Brook\n",
      "\n",
      "\n"
     ]
    }
   ],
   "source": [
    "tardy_iqr('Week 5')"
   ]
  },
  {
   "cell_type": "markdown",
   "id": "d0577aa9",
   "metadata": {},
   "source": [
    "#### 7. Define a second function, tardy_stdev(), with the same interface as experiment (6) but using the method of experiment (5) and verify that its results match that experiment."
   ]
  },
  {
   "cell_type": "code",
   "execution_count": 29,
   "id": "fdf7f4bc",
   "metadata": {},
   "outputs": [],
   "source": [
    "def tardy_stdev(week):\n",
    "    \n",
    "    outliers2 = []\n",
    "    weekData2 = []\n",
    "    \n",
    "    \n",
    "    # Open participants.csv file\n",
    "    with open('participants.csv', newline='') as csvfile:\n",
    "        reader = csv.DictReader(csvfile)\n",
    "    \n",
    "        # Store Week data in a list and convert to Float.\n",
    "        for row in reader:\n",
    "            weekData2.append(float(row[week]))\n",
    "         \n",
    "    # Calculate Mean for given week\n",
    "    weekAvg = statistics.fmean(weekData2)    \n",
    "    \n",
    "    # Calculate Standard Deviation for given week\n",
    "    weekStandardDeviation = statistics.stdev(weekData2)\n",
    "    \n",
    "    # Calculate outlier range for given week\n",
    "    minRange2 = weekAvg - 3*weekStandardDeviation\n",
    "    maxRange2 = weekAvg + 3*weekStandardDeviation\n",
    "    \n",
    "    \n",
    "    # Print the results of given week's data.\n",
    "    print(\"For {}\".format(week))\n",
    "    print(\"Standard Deviation is: {}\".format(weekStandardDeviation))\n",
    "    print(\"The minimum range is: {}\".format(minRange2))\n",
    "    print(\"The maximum range is: {}\".format(maxRange2))\n",
    "    print(\"Mean is: {}\".format(weekAvg))\n",
    "    \n",
    "    # Iterate through given week's data and find outliers.\n",
    "    for i in weekData2:\n",
    "        if(i < minRange2 or i > maxRange2):\n",
    "            outliers2.append(i)\n",
    "            \n",
    "    \n",
    "    # Print names of Students with outlier attendance data.\n",
    "    with open('participants.csv', newline='') as csvfile:\n",
    "        reader = csv.DictReader(csvfile)\n",
    "        print(\"\\nStudents who logged into the Zoom meeting but did not attend the entire lecture for {}:\\n\".format(week))\n",
    "        for row in reader:\n",
    "            for i in outliers2:\n",
    "                if(float(row[week]) == i):\n",
    "                    print(row['Student Name'])\n",
    "        print(\"\\n\")"
   ]
  },
  {
   "cell_type": "code",
   "execution_count": 30,
   "id": "ab6ea162",
   "metadata": {},
   "outputs": [
    {
     "name": "stdout",
     "output_type": "stream",
     "text": [
      "For Week 1\n",
      "Standard Deviation is: 45.02025687856262\n",
      "The minimum range is: 25.939229364312155\n",
      "The maximum range is: 296.06077063568785\n",
      "Mean is: 161.0\n",
      "\n",
      "Students who logged into the Zoom meeting but did not attend the entire lecture for Week 1:\n",
      "\n",
      "Owain Emerson\n",
      "Alaya Dickinson\n",
      "\n",
      "\n"
     ]
    }
   ],
   "source": [
    "tardy_stdev('Week 1')"
   ]
  },
  {
   "cell_type": "code",
   "execution_count": 31,
   "id": "7d424cc4",
   "metadata": {},
   "outputs": [
    {
     "name": "stdout",
     "output_type": "stream",
     "text": [
      "For Week 2\n",
      "Standard Deviation is: 41.76712148298934\n",
      "The minimum range is: 19.784349836746273\n",
      "The maximum range is: 270.3870787346823\n",
      "Mean is: 145.0857142857143\n",
      "\n",
      "Students who logged into the Zoom meeting but did not attend the entire lecture for Week 2:\n",
      "\n",
      "Miles Lyons\n",
      "Owain Emerson\n",
      "\n",
      "\n"
     ]
    }
   ],
   "source": [
    "tardy_stdev('Week 2')"
   ]
  },
  {
   "cell_type": "code",
   "execution_count": 32,
   "id": "838b4734",
   "metadata": {},
   "outputs": [
    {
     "name": "stdout",
     "output_type": "stream",
     "text": [
      "For Week 3\n",
      "Standard Deviation is: 28.709293432820054\n",
      "The minimum range is: 67.67211970153986\n",
      "The maximum range is: 239.92788029846017\n",
      "Mean is: 153.8\n",
      "\n",
      "Students who logged into the Zoom meeting but did not attend the entire lecture for Week 3:\n",
      "\n",
      "Adrian Ellison\n",
      "\n",
      "\n"
     ]
    }
   ],
   "source": [
    "tardy_stdev('Week 3')"
   ]
  },
  {
   "cell_type": "code",
   "execution_count": 33,
   "id": "d2edc4b9",
   "metadata": {},
   "outputs": [
    {
     "name": "stdout",
     "output_type": "stream",
     "text": [
      "For Week 4\n",
      "Standard Deviation is: 24.63590329361676\n",
      "The minimum range is: 101.40657583343544\n",
      "The maximum range is: 249.22199559513598\n",
      "Mean is: 175.31428571428572\n",
      "\n",
      "Students who logged into the Zoom meeting but did not attend the entire lecture for Week 4:\n",
      "\n",
      "Dora Delacruz\n",
      "\n",
      "\n"
     ]
    }
   ],
   "source": [
    "tardy_stdev('Week 4')"
   ]
  },
  {
   "cell_type": "code",
   "execution_count": 34,
   "id": "f992a0bc",
   "metadata": {},
   "outputs": [
    {
     "name": "stdout",
     "output_type": "stream",
     "text": [
      "For Week 5\n",
      "Standard Deviation is: 33.36941184766108\n",
      "The minimum range is: 61.691764457016774\n",
      "The maximum range is: 261.9082355429832\n",
      "Mean is: 161.8\n",
      "\n",
      "Students who logged into the Zoom meeting but did not attend the entire lecture for Week 5:\n",
      "\n",
      "Jazmin Foreman\n",
      "\n",
      "\n"
     ]
    }
   ],
   "source": [
    "tardy_stdev('Week 5')"
   ]
  },
  {
   "cell_type": "code",
   "execution_count": null,
   "id": "4c76b247",
   "metadata": {},
   "outputs": [],
   "source": []
  }
 ],
 "metadata": {
  "kernelspec": {
   "display_name": "Python 3",
   "language": "python",
   "name": "python3"
  },
  "language_info": {
   "codemirror_mode": {
    "name": "ipython",
    "version": 3
   },
   "file_extension": ".py",
   "mimetype": "text/x-python",
   "name": "python",
   "nbconvert_exporter": "python",
   "pygments_lexer": "ipython3",
   "version": "3.8.8"
  }
 },
 "nbformat": 4,
 "nbformat_minor": 5
}
